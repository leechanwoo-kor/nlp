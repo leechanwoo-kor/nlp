{
  "nbformat": 4,
  "nbformat_minor": 0,
  "metadata": {
    "colab": {
      "name": "RNN Classifier - train (tensorflow)의 사본",
      "provenance": [],
      "collapsed_sections": []
    },
    "kernelspec": {
      "name": "python3",
      "display_name": "Python 3"
    },
    "accelerator": "GPU"
  },
  "cells": [
    {
      "cell_type": "markdown",
      "metadata": {
        "id": "1w8ew706HC5C"
      },
      "source": [
        "# 트위터 감정 분석\n",
        "\n",
        "이번 실습에서는 트위터 메시지(트윗)의 감정을 분석하는 RNN Classifier를 만들겠습니다.\n",
        "\n",
        "감정에는 긍정, 부정, 중립의 세 가지 레이블이 있습니다.\n",
        "\n",
        "이 정의에 따라 트윗에 담긴 감정을 태깅하였고 이 데이터를 통해 주어진 트윗에 감정을 분석하는 classifier를 만드는 것이 이번 실습에서의 목표입니다."
      ]
    },
    {
      "cell_type": "markdown",
      "metadata": {
        "id": "Qjj7XEd3BuDy"
      },
      "source": [
        "## 데이터 파일 다운로드\n",
        "\n",
        "데이터 파일을 다운로드 하기 위해 특수 명령어인 gdown을 사용하였습니다.\n",
        "\n",
        "(ipython 형태로 배포될 경우 data 폴더를 만들어 넣겠습니다.)\n",
        "\n",
        "데이터 출처: https://www.kaggle.com/vivekrathi055/sentiment-analysis-on-financial-tweets"
      ]
    },
    {
      "cell_type": "code",
      "metadata": {
        "id": "B3hwEF6GAiEm",
        "colab": {
          "base_uri": "https://localhost:8080/"
        },
        "outputId": "d5c96297-3210-4b79-b2ad-69bb3c14e2d0"
      },
      "source": [
        "!gdown --id 1CElFsrPshUPyLIDk0MpkJR01cIcqNdra\n",
        "\n",
        "!gdown --id 1tll145FRmWH8pfnlOCV_mYb3MTLvxf4K\n",
        "\n",
        "!gdown --id 1WJOfcaaW_5nc0Dr573FhX5zFyC5NCp9Z"
      ],
      "execution_count": 2,
      "outputs": [
        {
          "output_type": "stream",
          "name": "stdout",
          "text": [
            "/usr/local/lib/python3.7/dist-packages/gdown/cli.py:131: FutureWarning: Option `--id` was deprecated in version 4.3.1 and will be removed in 5.0. You don't need to pass it anymore to use a file ID.\n",
            "  category=FutureWarning,\n",
            "Downloading...\n",
            "From: https://drive.google.com/uc?id=1CElFsrPshUPyLIDk0MpkJR01cIcqNdra\n",
            "To: /content/vocab.csv\n",
            "100% 32.3k/32.3k [00:00<00:00, 45.0MB/s]\n",
            "/usr/local/lib/python3.7/dist-packages/gdown/cli.py:131: FutureWarning: Option `--id` was deprecated in version 4.3.1 and will be removed in 5.0. You don't need to pass it anymore to use a file ID.\n",
            "  category=FutureWarning,\n",
            "Downloading...\n",
            "From: https://drive.google.com/uc?id=1tll145FRmWH8pfnlOCV_mYb3MTLvxf4K\n",
            "To: /content/valid.csv\n",
            "100% 31.5k/31.5k [00:00<00:00, 46.4MB/s]\n",
            "/usr/local/lib/python3.7/dist-packages/gdown/cli.py:131: FutureWarning: Option `--id` was deprecated in version 4.3.1 and will be removed in 5.0. You don't need to pass it anymore to use a file ID.\n",
            "  category=FutureWarning,\n",
            "Downloading...\n",
            "From: https://drive.google.com/uc?id=1WJOfcaaW_5nc0Dr573FhX5zFyC5NCp9Z\n",
            "To: /content/train.csv\n",
            "100% 124k/124k [00:00<00:00, 57.2MB/s]\n"
          ]
        }
      ]
    },
    {
      "cell_type": "markdown",
      "metadata": {
        "id": "S03tCoPkG6vr"
      },
      "source": [
        "`train.csv` 파일을 열어보면 한 라인에 두 개의 열이 있습니다. \n",
        "\n",
        "첫 번째 열에는 트위터 메시지인 트윗이 있고 오른쪽에는 태깅된 감정이 있습니다.\n",
        "\n",
        "- 0: 부정\n",
        "- 1: 중립\n",
        "- 2: 긍정\n",
        "\n",
        "이렇게 세 가지의 감정이 태깅된 것을 알 수 있습니다."
      ]
    },
    {
      "cell_type": "code",
      "metadata": {
        "id": "xumuS251GFJO",
        "colab": {
          "base_uri": "https://localhost:8080/"
        },
        "outputId": "f13cc79e-fa47-44fb-bba9-ff19f44c12ba"
      },
      "source": [
        "with open(\"train.csv\") as csv_f:\n",
        "    head = \"\\n\".join([next(csv_f) for x in range(5)])\n",
        "print(head)"
      ],
      "execution_count": 3,
      "outputs": [
        {
          "output_type": "stream",
          "name": "stdout",
          "text": [
            "critic survey ashford hospit prime ahp amp kimco realti kim,0\n",
            "\n",
            "analyst adopt bullish outlook robert half intern inc rhi,1\n",
            "\n",
            "zack rank strong buy semiconductor stock mlnx intc mchp,2\n",
            "\n",
            "setup like watch wed roku iq sfix shop spot ual goo twlo nflx xrt tsla sq bidu pypl labu biib kss kre,2\n",
            "\n",
            "invesco ivz price target lower credit suiss group,1\n",
            "\n"
          ]
        }
      ]
    },
    {
      "cell_type": "markdown",
      "metadata": {
        "id": "ZvdTJtt1CcRU"
      },
      "source": [
        "## 라이브러리 로드\n",
        "\n",
        "코드 실행에 필요한 라이브러리를 로드합니다."
      ]
    },
    {
      "cell_type": "code",
      "metadata": {
        "id": "RgnaF87tCfhj"
      },
      "source": [
        "import matplotlib.pyplot as plt\n",
        "import tensorflow as tf\n",
        "from IPython.display import Image"
      ],
      "execution_count": 4,
      "outputs": []
    },
    {
      "cell_type": "markdown",
      "metadata": {
        "id": "4ZhhZRkJChKT"
      },
      "source": [
        "## train 함수\n",
        "train 함수는 train 데이터를 통해 모델을 학습하고 valid 데이터로 이를 검증하는 함수입니다.\n",
        "\n",
        "- 문제 1. train 함수 내 model 구성에 있어 마지막에 classification을 위해 dense layer를 추가해주세요. 힌트) class의 개수는 3개입니다."
      ]
    },
    {
      "cell_type": "code",
      "metadata": {
        "id": "hYucrg5wCjyA"
      },
      "source": [
        "def train(train_dataset, valid_dataset, epochs=20):\n",
        "    # vocab.csv에 적혀진 단어를 기반으로 단어를 벡터로 바꾸는 encoder를 만듭니다.\n",
        "    encoder = tf.keras.layers.experimental.preprocessing.TextVectorization(output_sequence_length=200,\n",
        "                                                                           vocabulary=\"./vocab.csv\")\n",
        "\n",
        "    # RNN classifier 모델을 만듭니다.\n",
        "    # 단어 => encoder => Embedding => 양방향 RNN => Dense => Dense의 구조입니다.\n",
        "    model = tf.keras.Sequential([\n",
        "        encoder,\n",
        "        tf.keras.layers.Embedding(input_dim=len(encoder.get_vocabulary()), output_dim=300, mask_zero=True),\n",
        "        tf.keras.layers.Bidirectional(tf.keras.layers.LSTM(300)),\n",
        "        tf.keras.layers.Dense(300, activation='relu'),\n",
        "        # <ToDo>: model의 마지막에 classification을 위해 dense layer를 추가해주세요.\n",
        "        tf.keras.layers.Dense(3)\n",
        "    ])\n",
        "\n",
        "    # 모델의 loss 함수와 optimizier를 정합니다.\n",
        "    model.compile(loss=tf.keras.losses.SparseCategoricalCrossentropy(from_logits=True),\n",
        "                  optimizer=tf.keras.optimizers.Adam(1e-4),\n",
        "                  metrics=['accuracy'])\n",
        "\n",
        "    # train 데이터로 학습시키며 valid 데이터로 성능을 확인합니다.\n",
        "    history = model.fit(train_dataset, epochs=epochs, validation_data=valid_dataset, validation_steps=1,\n",
        "                        use_multiprocessing=True, workers=32)\n",
        "\n",
        "    return model, history"
      ],
      "execution_count": 5,
      "outputs": []
    },
    {
      "cell_type": "markdown",
      "metadata": {
        "id": "kjpGUsu0CluV"
      },
      "source": [
        "## test 함수\n",
        "\n",
        "학습된 모델로 테스트 데이터를 이용하여 모델의 성능을 평가합니다."
      ]
    },
    {
      "cell_type": "code",
      "metadata": {
        "id": "Qb-MdzWXCn_F"
      },
      "source": [
        "def test(model, test_dataset):\n",
        "    # test 데이터를 이용하여 모델을 검증합니다.\n",
        "    test_loss, test_acc = model.evaluate(test_dataset)\n",
        "    \n",
        "    # 결과를 출력합니다.\n",
        "    print('Test Loss: {}'.format(test_loss))\n",
        "    print('Test Accuracy: {}'.format(test_acc))"
      ],
      "execution_count": 6,
      "outputs": []
    },
    {
      "cell_type": "markdown",
      "metadata": {
        "id": "ofHYy5NsCpwY"
      },
      "source": [
        "## 그래프 그리는 함수\n",
        "\n",
        "epoch에 따른 train loss와 validation loss 그래프를 그립니다."
      ]
    },
    {
      "cell_type": "code",
      "metadata": {
        "id": "uTXXPgoLCpiC"
      },
      "source": [
        "def draw_graph(history, metric='loss'):\n",
        "    plt.plot(history.history[metric])\n",
        "    plt.plot(history.history['val_' + metric], '')\n",
        "    plt.xlabel(\"Epochs\")\n",
        "    plt.ylabel(metric)\n",
        "    plt.legend([metric, 'val_' + metric])\n",
        "    plt.savefig('train_valid_loss.png', bbox_inches='tight')\n",
        "\n",
        "    Image('train_valid_loss.png')"
      ],
      "execution_count": 7,
      "outputs": []
    },
    {
      "cell_type": "markdown",
      "metadata": {
        "id": "ra8NgFTOCy-p"
      },
      "source": [
        "## 데이터 불러오기\n",
        "\n",
        "- 문제 2. `valid_dataset`을 불러오세요. 힌트) `train_dataset`을 참고하세요."
      ]
    },
    {
      "cell_type": "code",
      "metadata": {
        "id": "9Jy8JWuPCyvC"
      },
      "source": [
        "# 데이터의 기본 형태에 대한 정보입니다.\n",
        "column_names = [\"text\", \"label\"]\n",
        "column_defaults = [\"string\", \"int32\"]\n",
        "root_path = \"./\"\n",
        "train_file_path = root_path + \"train.csv\"\n",
        "valid_file_path = root_path + \"valid.csv\"\n",
        "\n",
        "# train 데이터 csv 파일을 읽어옵니다.\n",
        "train_dataset = tf.data.experimental.make_csv_dataset(train_file_path, column_names=column_names, batch_size=320,\n",
        "                                                      label_name=\"label\", column_defaults=column_defaults,\n",
        "                                                      header=False, num_epochs=1)\n",
        "\n",
        "# <ToDo>: valid_dataset을 불러오세요.\n",
        "valid_dataset = tf.data.experimental.make_csv_dataset(valid_file_path, column_names=column_names, batch_size=320,\n",
        "                                                      label_name=\"label\", column_defaults=column_defaults,\n",
        "                                                      header=False, num_epochs=1)\n",
        "\n",
        "# <ToDo>: valid_dataset과 test_dataset을 불러오세요.\n",
        "train_dataset = train_dataset.map(lambda text, label: (text[\"text\"], label))\n",
        "valid_dataset = valid_dataset.map(lambda text, label: (text[\"text\"], label))"
      ],
      "execution_count": 8,
      "outputs": []
    },
    {
      "cell_type": "markdown",
      "metadata": {
        "id": "RNlcKZKoDDEq"
      },
      "source": [
        "## 모델 학습\n",
        "\n",
        "- 문제 3. `train` 함수를 이용하여 train data를 통해 모델 학습을 진행하세요."
      ]
    },
    {
      "cell_type": "code",
      "metadata": {
        "id": "BpjT1fyTDF15",
        "colab": {
          "base_uri": "https://localhost:8080/"
        },
        "outputId": "e1e4995a-faec-42cb-fdaf-c267fc36a0e5"
      },
      "source": [
        "# <ToDo>: 학습을 위해 train 함수의 적절한 parameter를 전달해주세요.\n",
        "model, history = train(train_dataset, valid_dataset, epochs=20)  # Problem 3"
      ],
      "execution_count": 9,
      "outputs": [
        {
          "output_type": "stream",
          "name": "stdout",
          "text": [
            "Epoch 1/20\n",
            "7/7 [==============================] - 16s 447ms/step - loss: 1.0944 - accuracy: 0.5065 - val_loss: 1.0852 - val_accuracy: 0.6313\n",
            "Epoch 2/20\n",
            "7/7 [==============================] - 0s 53ms/step - loss: 1.0813 - accuracy: 0.5840 - val_loss: 1.0712 - val_accuracy: 0.6094\n",
            "Epoch 3/20\n",
            "7/7 [==============================] - 0s 41ms/step - loss: 1.0650 - accuracy: 0.5805 - val_loss: 1.0469 - val_accuracy: 0.6438\n",
            "Epoch 4/20\n",
            "7/7 [==============================] - 0s 40ms/step - loss: 1.0400 - accuracy: 0.5795 - val_loss: 1.0132 - val_accuracy: 0.6281\n",
            "Epoch 5/20\n",
            "7/7 [==============================] - 0s 41ms/step - loss: 1.0003 - accuracy: 0.5795 - val_loss: 0.9620 - val_accuracy: 0.6250\n",
            "Epoch 6/20\n",
            "7/7 [==============================] - 0s 40ms/step - loss: 0.9440 - accuracy: 0.5795 - val_loss: 0.9183 - val_accuracy: 0.6031\n",
            "Epoch 7/20\n",
            "7/7 [==============================] - 0s 42ms/step - loss: 0.8960 - accuracy: 0.5795 - val_loss: 0.8635 - val_accuracy: 0.6281\n",
            "Epoch 8/20\n",
            "7/7 [==============================] - 0s 41ms/step - loss: 0.8573 - accuracy: 0.5810 - val_loss: 0.8571 - val_accuracy: 0.6156\n",
            "Epoch 9/20\n",
            "7/7 [==============================] - 0s 41ms/step - loss: 0.8203 - accuracy: 0.5925 - val_loss: 0.8406 - val_accuracy: 0.6250\n",
            "Epoch 10/20\n",
            "7/7 [==============================] - 0s 42ms/step - loss: 0.7721 - accuracy: 0.6125 - val_loss: 0.7756 - val_accuracy: 0.6656\n",
            "Epoch 11/20\n",
            "7/7 [==============================] - 0s 41ms/step - loss: 0.7072 - accuracy: 0.6825 - val_loss: 0.7309 - val_accuracy: 0.7125\n",
            "Epoch 12/20\n",
            "7/7 [==============================] - 0s 42ms/step - loss: 0.6238 - accuracy: 0.7735 - val_loss: 0.7429 - val_accuracy: 0.7125\n",
            "Epoch 13/20\n",
            "7/7 [==============================] - 0s 42ms/step - loss: 0.5268 - accuracy: 0.8315 - val_loss: 0.7269 - val_accuracy: 0.7656\n",
            "Epoch 14/20\n",
            "7/7 [==============================] - 0s 41ms/step - loss: 0.4349 - accuracy: 0.8610 - val_loss: 0.6519 - val_accuracy: 0.7812\n",
            "Epoch 15/20\n",
            "7/7 [==============================] - 0s 41ms/step - loss: 0.3582 - accuracy: 0.8805 - val_loss: 0.7749 - val_accuracy: 0.7531\n",
            "Epoch 16/20\n",
            "7/7 [==============================] - 0s 43ms/step - loss: 0.2958 - accuracy: 0.9050 - val_loss: 0.8186 - val_accuracy: 0.7969\n",
            "Epoch 17/20\n",
            "7/7 [==============================] - 0s 42ms/step - loss: 0.2421 - accuracy: 0.9235 - val_loss: 0.8224 - val_accuracy: 0.7781\n",
            "Epoch 18/20\n",
            "7/7 [==============================] - 0s 42ms/step - loss: 0.1991 - accuracy: 0.9380 - val_loss: 1.0991 - val_accuracy: 0.7750\n",
            "Epoch 19/20\n",
            "7/7 [==============================] - 0s 41ms/step - loss: 0.1619 - accuracy: 0.9500 - val_loss: 0.8705 - val_accuracy: 0.7969\n",
            "Epoch 20/20\n",
            "7/7 [==============================] - 0s 41ms/step - loss: 0.1321 - accuracy: 0.9620 - val_loss: 0.8879 - val_accuracy: 0.8062\n"
          ]
        }
      ]
    },
    {
      "cell_type": "markdown",
      "metadata": {
        "id": "V-wJEf05DJ8Q"
      },
      "source": [
        "## 그래프 출력"
      ]
    },
    {
      "cell_type": "code",
      "metadata": {
        "id": "RFiSShyMDLOX",
        "colab": {
          "base_uri": "https://localhost:8080/",
          "height": 279
        },
        "outputId": "a3a71b6e-5618-4da9-c67f-558e618d7ede"
      },
      "source": [
        "# 학습 히스토리를 통해 training loss와 validation loss를 그래프로 그립니다.\n",
        "draw_graph(history)"
      ],
      "execution_count": 10,
      "outputs": [
        {
          "output_type": "display_data",
          "data": {
            "text/plain": [
              "<Figure size 432x288 with 1 Axes>"
            ],
            "image/png": "[encoded data removed]"
          },
          "metadata": {
            "needs_background": "light"
          }
        }
      ]
    },
    {
      "cell_type": "markdown",
      "metadata": {
        "id": "cneFmMidXZ5o"
      },
      "source": [
        "## 추가 질문\n",
        "\n",
        "위의 그림을 보면서 최적의 Epoch 개수를 찾아보세요.\n",
        "\n",
        "Valid Loss가 가장 적은 부분을 찾아보았을 때,\n",
        "Epoch 14가 가장 최적의 Epoch 개수이다."
      ]
    }
  ]
}